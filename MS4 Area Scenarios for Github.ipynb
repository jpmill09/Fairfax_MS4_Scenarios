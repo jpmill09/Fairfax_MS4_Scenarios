{
 "cells": [
  {
   "cell_type": "code",
   "execution_count": 14,
   "metadata": {},
   "outputs": [],
   "source": [
    "# Import Packages\n",
    "import sys, os\n",
    "import pandas as pd\n",
    "import geopandas as gpd\n",
    "import seaborn as sns\n",
    "import numpy as np\n",
    "import matplotlib.pyplot as plt\n",
    "import math\n",
    "import json\n",
    "import plotly.graph_objects as go\n",
    "import plotly.express as px\n",
    "from plotly.offline import iplot\n",
    "from scipy import stats\n",
    "from ipyleaflet import (Map, GeoData, basemaps, WidgetControl, GeoJSON,\n",
    " LayersControl, Icon, Marker,basemap_to_tiles, Choropleth,\n",
    " MarkerCluster, Heatmap,SearchControl, \n",
    " FullScreenControl, LayerGroup, LegendControl)\n",
    "from ipywidgets import Text, HTML, widgets, interactive, HBox, VBox\n",
    "from branca.colormap import linear\n",
    "%matplotlib inline"
   ]
  },
  {
   "cell_type": "markdown",
   "metadata": {},
   "source": [
    "# Size and Extent of Fairfax County's Municipal Separate Storm Sewer (MS4)"
   ]
  },
  {
   "cell_type": "markdown",
   "metadata": {},
   "source": [
    "Fairfax County's MS4 permit requires the County to map the `MS4 service area` and each `MS4 outfall`. Wood has identified over 10,000 terminal outfalls in the County, of which over 7,000 are the County's responsibility. The drainage areas to each MS4 outfall are delineated using an automated approach. This approach uses a hydrologically conditioned Digital Elevation Model (DEM) that incorporates StormNet to enforce subsurface drainage networks. This process is revisited annually to incorporate updates to StormNet and is documented in further detail in a SOP.\n",
    "\n",
    "**MS4 outfall**\n",
    ": the terminal point of manmade infrastructure that discharges to a water of the state or water of the US. Manmade infrastructure includes earthen ditches maintained to convey stormwater flow. \n",
    "\n",
    "**<font color=green>All MS4 drainage areas</font>**\n",
    ": All the area draining to each MS4 outfall.\n",
    "\n",
    "**<font color=red>MS4 service area</font>**\n",
    ": Area draining to each County MS4 outfall, _except_ for excluded lands such as:\n",
    "- VPDES permittees\n",
    "- Other MS4 permittees (ex. VDOT)\n",
    "- Forested lands (Note: the County chose to _not exclude_ Forested Lands from the MS4 service area)"
   ]
  },
  {
   "cell_type": "markdown",
   "metadata": {},
   "source": [
    "The map below shows three layers/geometries that the County can be evaluated on:\n",
    "1. <font color=red>MS4 service area</font>\n",
    "2. <font color=green>All MS4 drainage areas</font>\n",
    "3. <font color=blue>The entire County</font>"
   ]
  },
  {
   "cell_type": "code",
   "execution_count": 15,
   "metadata": {},
   "outputs": [],
   "source": [
    "Drainage_Areas = gpd.read_file(\"Data/All_Drainage_Areas.geojson\", driver=\"GeoJSON\")\n",
    "Drainage_Areas = Drainage_Areas.rename(columns={\"STORMNET_I\":\"STORMNET_ID\"})"
   ]
  },
  {
   "cell_type": "code",
   "execution_count": 16,
   "metadata": {},
   "outputs": [],
   "source": [
    "Service_Areas = gpd.read_file(\"Data/County_MS4_Service_Areas_Sim1.geojson\", driver=\"GeoJSON\")\n",
    "Service_Areas = Service_Areas.rename(columns={\"STORMNET_I\":\"STORMNET_ID\"})"
   ]
  },
  {
   "cell_type": "code",
   "execution_count": 17,
   "metadata": {},
   "outputs": [],
   "source": [
    "County = gpd.read_file(\"https://opendata.arcgis.com/datasets/58cf8abd870e47aeb1be8911983d2d44_15.geojson\")"
   ]
  },
  {
   "cell_type": "markdown",
   "metadata": {},
   "source": [
    "\n",
    "*Note: Gif below displays the difference between 4 relevant geometries - <font color=green>All Drainage Areas</font>, County Drainage Areas, the <font color=red>MS4 Service Area</font>, and the <font color=blue>Entire County</font>.*"
   ]
  },
  {
   "cell_type": "code",
   "execution_count": 18,
   "metadata": {},
   "outputs": [
    {
     "data": {
      "text/html": [
       "<img src=\"https://media.giphy.com/media/XSICRHtziK2jKnlrwr/giphy.gif\"/>"
      ],
      "text/plain": [
       "<IPython.core.display.Image object>"
      ]
     },
     "execution_count": 18,
     "metadata": {},
     "output_type": "execute_result"
    }
   ],
   "source": [
    "from IPython.display import Image, display\n",
    "Image(url='https://media.giphy.com/media/XSICRHtziK2jKnlrwr/giphy.gif')"
   ]
  },
  {
   "cell_type": "code",
   "execution_count": 19,
   "metadata": {},
   "outputs": [
    {
     "data": {
      "application/vnd.jupyter.widget-view+json": {
       "model_id": "15bf31fae44548ae9a65aa23284bc134",
       "version_major": 2,
       "version_minor": 0
      },
      "text/plain": [
       "Map(center=[38.8554638, -77.275734], controls=(ZoomControl(options=['position', 'zoom_in_text', 'zoom_in_title…"
      ]
     },
     "metadata": {},
     "output_type": "display_data"
    }
   ],
   "source": [
    "center = (38.8554638, -77.2757340)\n",
    "m = Map(center=center, zoom=10)\n",
    "\n",
    "geodata_SA = GeoData(geo_dataframe = Service_Areas,\n",
    "                  style={'color': 'black', 'fillColor': '#eb1b0c', 'opacity':0.03, 'weight':1.9, 'dashArray':'2', 'fillOpacity':0.6},\n",
    "                         hover_style={'fillColor': '#b08a3e', 'fillOpacity': 0.8},\n",
    "                                      name = 'MS4 Service Area')\n",
    "geodata_DA = GeoData(geo_dataframe = Drainage_Areas,\n",
    "                  style={'color': 'black', 'fillColor': '#2deb0c', 'opacity':0.03, 'weight':1.9, 'dashArray':'2', 'fillOpacity':0.6},\n",
    "                         hover_style={'fillColor': '#b08a3e', 'fillOpacity': 0.8},\n",
    "                                      name = 'All Drainage Areas')\n",
    "geodata_County = GeoData(geo_dataframe = County,\n",
    "                  style={'color': 'black', 'fillColor': '#053ef7', 'opacity':0.03, 'weight':1.9, 'dashArray':'2', 'fillOpacity':0.2},\n",
    "                         hover_style={'fillColor': '#b08a3e', 'fillOpacity': 0.8},\n",
    "                                      name = 'County')\n",
    "\n",
    "m.add_layer(geodata_SA)\n",
    "m.add_layer(geodata_DA)\n",
    "m.add_layer(geodata_County)\n",
    "\n",
    "search = SearchControl(position=\"topleft\", \n",
    "                       url=\n",
    "                       'https://nominatim.openstreetmap.org/search?format=json&q={s}',\n",
    "                       zoom=14,\n",
    "                       property_name='display_name'\n",
    "                      )\n",
    "m.add_control(search)\n",
    "control = FullScreenControl()\n",
    "m.add_control(control)\n",
    "m.add_control(LayersControl())\n",
    "legend = LegendControl({\"MS4 Service Area\":\"#eb1b0c\", \"All Drainage Areas\":\"#2deb0c\", \"County\":\"#053ef7\"}, name=\"Legend\", position=\"bottomright\")\n",
    "m.add_control(legend)\n",
    "\n",
    "m"
   ]
  },
  {
   "cell_type": "code",
   "execution_count": 20,
   "metadata": {},
   "outputs": [],
   "source": [
    "MS4_Scenarios = pd.read_csv(\"Data/MS4_Scenarios.csv\")\n",
    "MS4_Scenarios = MS4_Scenarios.iloc[0:3]"
   ]
  },
  {
   "cell_type": "markdown",
   "metadata": {},
   "source": [
    "The chart below depicts three stacked bars. Each bar corresponds to a polygon geometry displayed in the map above. Within each geometry (ex. MS4 service area ~ current MS4) the area can be broken down into three categories:\n",
    "1. Impervious Area\n",
    "2. Pervious Area\n",
    "3. Forest within the Pervious Area\n",
    "\n",
    "*Note: Excluded Lands (other than forest) have been removed from each geometry*"
   ]
  },
  {
   "cell_type": "code",
   "execution_count": 21,
   "metadata": {},
   "outputs": [
    {
     "ename": "KeyError",
     "evalue": "\"['Non-Forest Pervious Area'] not in index\"",
     "output_type": "error",
     "traceback": [
      "\u001b[1;31m---------------------------------------------------------------------------\u001b[0m",
      "\u001b[1;31mKeyError\u001b[0m                                  Traceback (most recent call last)",
      "\u001b[1;32m<ipython-input-21-acf4996f13dd>\u001b[0m in \u001b[0;36m<module>\u001b[1;34m\u001b[0m\n\u001b[1;32m----> 1\u001b[1;33m \u001b[0mMS4_Scenarios_AC\u001b[0m \u001b[1;33m=\u001b[0m \u001b[0mMS4_Scenarios\u001b[0m\u001b[1;33m[\u001b[0m\u001b[1;33m[\u001b[0m\u001b[1;34m'Scenarios'\u001b[0m\u001b[1;33m,\u001b[0m\u001b[1;34m'Impervious Area'\u001b[0m\u001b[1;33m,\u001b[0m \u001b[1;34m'Non-Forest Pervious Area'\u001b[0m\u001b[1;33m,\u001b[0m \u001b[1;34m'Forest in Pervious Area'\u001b[0m\u001b[1;33m]\u001b[0m\u001b[1;33m]\u001b[0m\u001b[1;33m\u001b[0m\u001b[1;33m\u001b[0m\u001b[0m\n\u001b[0m\u001b[0;32m      2\u001b[0m \u001b[0mMS4_Scenarios_AC\u001b[0m \u001b[1;33m=\u001b[0m \u001b[0mpd\u001b[0m\u001b[1;33m.\u001b[0m\u001b[0mmelt\u001b[0m\u001b[1;33m(\u001b[0m\u001b[0mMS4_Scenarios_AC\u001b[0m\u001b[1;33m,\u001b[0m \u001b[0mid_vars\u001b[0m \u001b[1;33m=\u001b[0m \u001b[1;33m[\u001b[0m\u001b[1;34m'Scenarios'\u001b[0m\u001b[1;33m]\u001b[0m\u001b[1;33m)\u001b[0m\u001b[1;33m\u001b[0m\u001b[1;33m\u001b[0m\u001b[0m\n",
      "\u001b[1;32m~\\Anaconda3\\envs\\FFX_STW\\lib\\site-packages\\pandas\\core\\frame.py\u001b[0m in \u001b[0;36m__getitem__\u001b[1;34m(self, key)\u001b[0m\n\u001b[0;32m   2906\u001b[0m             \u001b[1;32mif\u001b[0m \u001b[0mis_iterator\u001b[0m\u001b[1;33m(\u001b[0m\u001b[0mkey\u001b[0m\u001b[1;33m)\u001b[0m\u001b[1;33m:\u001b[0m\u001b[1;33m\u001b[0m\u001b[1;33m\u001b[0m\u001b[0m\n\u001b[0;32m   2907\u001b[0m                 \u001b[0mkey\u001b[0m \u001b[1;33m=\u001b[0m \u001b[0mlist\u001b[0m\u001b[1;33m(\u001b[0m\u001b[0mkey\u001b[0m\u001b[1;33m)\u001b[0m\u001b[1;33m\u001b[0m\u001b[1;33m\u001b[0m\u001b[0m\n\u001b[1;32m-> 2908\u001b[1;33m             \u001b[0mindexer\u001b[0m \u001b[1;33m=\u001b[0m \u001b[0mself\u001b[0m\u001b[1;33m.\u001b[0m\u001b[0mloc\u001b[0m\u001b[1;33m.\u001b[0m\u001b[0m_get_listlike_indexer\u001b[0m\u001b[1;33m(\u001b[0m\u001b[0mkey\u001b[0m\u001b[1;33m,\u001b[0m \u001b[0maxis\u001b[0m\u001b[1;33m=\u001b[0m\u001b[1;36m1\u001b[0m\u001b[1;33m,\u001b[0m \u001b[0mraise_missing\u001b[0m\u001b[1;33m=\u001b[0m\u001b[1;32mTrue\u001b[0m\u001b[1;33m)\u001b[0m\u001b[1;33m[\u001b[0m\u001b[1;36m1\u001b[0m\u001b[1;33m]\u001b[0m\u001b[1;33m\u001b[0m\u001b[1;33m\u001b[0m\u001b[0m\n\u001b[0m\u001b[0;32m   2909\u001b[0m \u001b[1;33m\u001b[0m\u001b[0m\n\u001b[0;32m   2910\u001b[0m         \u001b[1;31m# take() does not accept boolean indexers\u001b[0m\u001b[1;33m\u001b[0m\u001b[1;33m\u001b[0m\u001b[1;33m\u001b[0m\u001b[0m\n",
      "\u001b[1;32m~\\Anaconda3\\envs\\FFX_STW\\lib\\site-packages\\pandas\\core\\indexing.py\u001b[0m in \u001b[0;36m_get_listlike_indexer\u001b[1;34m(self, key, axis, raise_missing)\u001b[0m\n\u001b[0;32m   1252\u001b[0m             \u001b[0mkeyarr\u001b[0m\u001b[1;33m,\u001b[0m \u001b[0mindexer\u001b[0m\u001b[1;33m,\u001b[0m \u001b[0mnew_indexer\u001b[0m \u001b[1;33m=\u001b[0m \u001b[0max\u001b[0m\u001b[1;33m.\u001b[0m\u001b[0m_reindex_non_unique\u001b[0m\u001b[1;33m(\u001b[0m\u001b[0mkeyarr\u001b[0m\u001b[1;33m)\u001b[0m\u001b[1;33m\u001b[0m\u001b[1;33m\u001b[0m\u001b[0m\n\u001b[0;32m   1253\u001b[0m \u001b[1;33m\u001b[0m\u001b[0m\n\u001b[1;32m-> 1254\u001b[1;33m         \u001b[0mself\u001b[0m\u001b[1;33m.\u001b[0m\u001b[0m_validate_read_indexer\u001b[0m\u001b[1;33m(\u001b[0m\u001b[0mkeyarr\u001b[0m\u001b[1;33m,\u001b[0m \u001b[0mindexer\u001b[0m\u001b[1;33m,\u001b[0m \u001b[0maxis\u001b[0m\u001b[1;33m,\u001b[0m \u001b[0mraise_missing\u001b[0m\u001b[1;33m=\u001b[0m\u001b[0mraise_missing\u001b[0m\u001b[1;33m)\u001b[0m\u001b[1;33m\u001b[0m\u001b[1;33m\u001b[0m\u001b[0m\n\u001b[0m\u001b[0;32m   1255\u001b[0m         \u001b[1;32mreturn\u001b[0m \u001b[0mkeyarr\u001b[0m\u001b[1;33m,\u001b[0m \u001b[0mindexer\u001b[0m\u001b[1;33m\u001b[0m\u001b[1;33m\u001b[0m\u001b[0m\n\u001b[0;32m   1256\u001b[0m \u001b[1;33m\u001b[0m\u001b[0m\n",
      "\u001b[1;32m~\\Anaconda3\\envs\\FFX_STW\\lib\\site-packages\\pandas\\core\\indexing.py\u001b[0m in \u001b[0;36m_validate_read_indexer\u001b[1;34m(self, key, indexer, axis, raise_missing)\u001b[0m\n\u001b[0;32m   1302\u001b[0m             \u001b[1;32mif\u001b[0m \u001b[0mraise_missing\u001b[0m\u001b[1;33m:\u001b[0m\u001b[1;33m\u001b[0m\u001b[1;33m\u001b[0m\u001b[0m\n\u001b[0;32m   1303\u001b[0m                 \u001b[0mnot_found\u001b[0m \u001b[1;33m=\u001b[0m \u001b[0mlist\u001b[0m\u001b[1;33m(\u001b[0m\u001b[0mset\u001b[0m\u001b[1;33m(\u001b[0m\u001b[0mkey\u001b[0m\u001b[1;33m)\u001b[0m \u001b[1;33m-\u001b[0m \u001b[0mset\u001b[0m\u001b[1;33m(\u001b[0m\u001b[0max\u001b[0m\u001b[1;33m)\u001b[0m\u001b[1;33m)\u001b[0m\u001b[1;33m\u001b[0m\u001b[1;33m\u001b[0m\u001b[0m\n\u001b[1;32m-> 1304\u001b[1;33m                 \u001b[1;32mraise\u001b[0m \u001b[0mKeyError\u001b[0m\u001b[1;33m(\u001b[0m\u001b[1;34mf\"{not_found} not in index\"\u001b[0m\u001b[1;33m)\u001b[0m\u001b[1;33m\u001b[0m\u001b[1;33m\u001b[0m\u001b[0m\n\u001b[0m\u001b[0;32m   1305\u001b[0m \u001b[1;33m\u001b[0m\u001b[0m\n\u001b[0;32m   1306\u001b[0m             \u001b[1;31m# we skip the warning on Categorical\u001b[0m\u001b[1;33m\u001b[0m\u001b[1;33m\u001b[0m\u001b[1;33m\u001b[0m\u001b[0m\n",
      "\u001b[1;31mKeyError\u001b[0m: \"['Non-Forest Pervious Area'] not in index\""
     ]
    }
   ],
   "source": [
    "MS4_Scenarios_AC = MS4_Scenarios[['Scenarios','Impervious Area', 'Non-Forest Pervious Area', 'Forest in Pervious Area']]\n",
    "MS4_Scenarios_AC = pd.melt(MS4_Scenarios_AC, id_vars = ['Scenarios'])"
   ]
  },
  {
   "cell_type": "code",
   "execution_count": null,
   "metadata": {},
   "outputs": [],
   "source": [
    "fig_bar = px.bar(MS4_Scenarios_AC, x='Scenarios', y='value', color='variable', color_discrete_sequence =['red','blue','green'],\n",
    "             labels={\n",
    "                     \"Scenarios\": \"MS4 Responsibility Scenarios\",\n",
    "                     \"value\": \"Acres\",\n",
    "                     \"variable\": \"Land Cover Type\"\n",
    "                 },\n",
    "             title='MS4 With Excluded Lands Removed')\n",
    "\n",
    "f1 = go.FigureWidget(fig_bar)\n",
    "f1"
   ]
  },
  {
   "cell_type": "code",
   "execution_count": null,
   "metadata": {},
   "outputs": [],
   "source": [
    "MS4_Scenarios[['Scenarios','Impervious Area', 'Non-Forest Pervious Area', 'Forest in Pervious Area']]"
   ]
  },
  {
   "cell_type": "markdown",
   "metadata": {},
   "source": [
    "The next chart displays the `Excluded Lands`. Chesapeake Bay TMDL Special Condition Guidance Memo GM20-2003 specifices that permittees may exclude from their service area, in addition to lands regulated by a separate MS4 permit, the following areas:\n",
    "\n",
    "1. Land regulated under any General VPDES permit that addresses industrial stormwater, including the General VPDES Permit for Stormwater Associated with Industrial Activity (VAR05), the General VPDES Permit for Concrete Products Facilities (VAG11), and the Nonmetallic Mineral Processing General Permit (VAR84);\n",
    "2. Lands regulated under an individual VPDES permit for industrial stormwater discharges;\n",
    "3. Forested Lands (the County chose **not** to remove these lands);\n",
    "4. Agricultural Lands;\n",
    "5. Wetlands; and,\n",
    "6. Open Waters.\n",
    "\n",
    "Each bar on this chart also corresponds with a geometry; however, the geometry is slightly different than before. Instead of using the MS4 service area for the \"Current MS4\", we use County drainage areas. The County drainage areas do not have excluded lands removed - such as the VDOT MS4/ROW. \n",
    "\n",
    "Each bar shows the excluded lands present within the specified geometry.\n"
   ]
  },
  {
   "cell_type": "code",
   "execution_count": null,
   "metadata": {},
   "outputs": [],
   "source": [
    "MS4_Scenarios_Removed = pd.read_csv(\"Data/MS4_Scenarios_Removed.csv\")"
   ]
  },
  {
   "cell_type": "code",
   "execution_count": null,
   "metadata": {},
   "outputs": [],
   "source": [
    "MS4_Scenarios_Removed_melt = pd.melt(MS4_Scenarios_Removed, id_vars = ['Scenarios'], value_vars = ['VDOT', 'Other MS4s', 'VPDES Permitees'])"
   ]
  },
  {
   "cell_type": "code",
   "execution_count": null,
   "metadata": {},
   "outputs": [],
   "source": [
    "fig_bar1 = px.bar(MS4_Scenarios_Removed_melt, x='Scenarios', y='value', color='variable', color_discrete_sequence =['orange','blue','red'],\n",
    "             labels={\n",
    "                     \"Scenarios\": \"MS4 Responsibility Scenarios\",\n",
    "                     \"value\": \"Acres\",\n",
    "                     \"variable\": \"Potentially Excluded Lands\"\n",
    "                 },\n",
    "             title='Excluded Lands')\n",
    "\n",
    "f2 = go.FigureWidget(fig_bar1)\n",
    "f2"
   ]
  },
  {
   "cell_type": "code",
   "execution_count": null,
   "metadata": {},
   "outputs": [],
   "source": [
    "MS4_Scenarios_Removed"
   ]
  },
  {
   "cell_type": "markdown",
   "metadata": {},
   "source": [
    "The County's MS4 permit will require it to reduce 100% of the L2 Scoping Run POC reductions required for existing sources as of June 30, 2009 by the end of its third permit cycle. Table 3b from the Chesapeake Bay TMDL Guidance can be used to estimate the scope of these required reductions within the Potomac River Basin. \n",
    "\n",
    "Impervious and pervious area estimates for the three geometries can be plugged into the column`Land served by MS4 (2009)` to estimate what reductions would be required under different MS4 size and extent scenarios. The results are shown in the interactive chart below. \n",
    "\n",
    "The dropdown menu allows the user to select different POC."
   ]
  },
  {
   "cell_type": "markdown",
   "metadata": {},
   "source": [
    "### Table 3b. Current MS4\n",
    "#### Calculation Sheet for Estimating Existing Source Loads and Reduction Requirements for the Potomac River Basin"
   ]
  },
  {
   "cell_type": "markdown",
   "metadata": {},
   "source": [
    "| Pollutant | Subsource | Loading rate (lbs/ac/yr) | Land served by MS4 (2009) | Load (lbs/yr) | L2 Required Reduction | 100% Cumulative Reduction Required (lbs/yr)\n",
    "| :---------: | ----------- | :---------: | :---------: |  :---------: |  :---------: | :---------: |\n",
    "| TN | Regulated impervious | 16.86 | 21,012.45 | 354,269.91 | 9% | 31,884.29\n",
    "| TN | Regulated pervious |10.07 | 50,839.16 | 511,950.34 | 6% | 30,717.02\n",
    "| TP | Regulated impervious | 1.62 | 21,012.45 | 34,040.17 | 16% | 5,446.43\n",
    "| TP | Regulated pervious |0.41 | 50,839.16 | 20,844.06 | 7.25% | 1,511.19\n",
    "| TSS | Regulated impervious | 1,171.32 | 21,012.45 | 24,612,302.93 | 20% | 4,922,460.59\n",
    "| TSS | Regulated pervious |175.8 | 50,839.16 | 8,937,524.33| 7.25% | 782,033.38"
   ]
  },
  {
   "cell_type": "code",
   "execution_count": null,
   "metadata": {},
   "outputs": [],
   "source": [
    "MS4_Scenarios_POC = MS4_Scenarios[['Scenarios','TN', 'TP', 'TSS']]"
   ]
  },
  {
   "cell_type": "code",
   "execution_count": null,
   "metadata": {},
   "outputs": [],
   "source": [
    "MS4_Scenarios_POC = MS4_Scenarios_POC.set_index(['Scenarios'])"
   ]
  },
  {
   "cell_type": "code",
   "execution_count": null,
   "metadata": {},
   "outputs": [],
   "source": [
    "fig = go.Figure()\n",
    "\n",
    "for column in MS4_Scenarios_POC.columns.to_list():\n",
    "    fig.add_trace(\n",
    "        go.Bar(\n",
    "            x = MS4_Scenarios_POC.index,\n",
    "            y = MS4_Scenarios_POC[column],\n",
    "            name = column\n",
    "        )\n",
    "    )\n",
    "  \n",
    "fig.update_layout(\n",
    "    updatemenus=[go.layout.Updatemenu(\n",
    "        active=0,\n",
    "        buttons=list(\n",
    "            [dict(label = 'All',\n",
    "                  method = 'update',\n",
    "                  args = [{'visible': [True, True, True]},\n",
    "                          {'title': 'All',\n",
    "                           'showlegend':True}]),\n",
    "            dict(label = 'TN',\n",
    "                  method = 'update',\n",
    "                  args = [{'visible': [True, False, False]},\n",
    "                          {'title': 'TN',\n",
    "                           'showlegend':True}]),\n",
    "             dict(label = 'TP',\n",
    "                  method = 'update',\n",
    "                  args = [{'visible': [False, True, False]}, # the index of True aligns with the indices of plot traces\n",
    "                          {'title': 'TP',\n",
    "                           'showlegend':True}]),\n",
    "             dict(label = 'TSS',\n",
    "                  method = 'update',\n",
    "                  args = [{'visible': [False, False, True]},\n",
    "                          {'title': 'TSS',\n",
    "                           'showlegend':True}]),\n",
    "            ])\n",
    "        )\n",
    "    ])\n",
    "\n",
    "f2 = go.FigureWidget(fig)\n",
    "f2\n",
    "\n",
    "#fig.show()"
   ]
  },
  {
   "cell_type": "code",
   "execution_count": null,
   "metadata": {},
   "outputs": [],
   "source": [
    "MS4_Scenarios_POC"
   ]
  },
  {
   "cell_type": "markdown",
   "metadata": {},
   "source": [
    "The table below displays the County's current Chesapeake Bay TMDL `credit ledger` for all eligible practices for each *Pollutant of Concern (POC)*. This `credit ledger` is a summation of work to date and can be compared to the required reductions for each of the three geometries. "
   ]
  },
  {
   "cell_type": "code",
   "execution_count": null,
   "metadata": {},
   "outputs": [],
   "source": [
    "Progress_Data = pd.read_csv(\"Data/Progress_Data.csv\")\n",
    "Progress_Data.set_index('Practice')"
   ]
  },
  {
   "cell_type": "markdown",
   "metadata": {},
   "source": [
    "The graph below compares the County's `credit ledger` with the required reductions for the:\n",
    "\n",
    "1. <font color=red>Current MS4 Service Area</font>\n",
    "2. <font color=green>All Drainage Areas</font>\n",
    "3. <font color=blue>Entire County</font>\n",
    "\n",
    "It calculates the `Percent Towards Goal` for each eligible practice and summarizes the total for each *POC*. The goal is assumed to be 100% compliance, even though the County is currently only required to meet 40% compliance for the total required reductions. The three geometries are broken out into three facets, which show progress towards compliance under each scenario."
   ]
  },
  {
   "cell_type": "code",
   "execution_count": null,
   "metadata": {},
   "outputs": [],
   "source": [
    "Progress_Data = Progress_Data.assign(Current_MS4_TN_Perc= lambda Progress_Data: (Progress_Data.TN/62601.31)*100).round(2)\n",
    "Progress_Data = Progress_Data.assign(Current_MS4_TP_Perc= lambda Progress_Data: (Progress_Data.TP/6957.62)*100).round(2)\n",
    "Progress_Data = Progress_Data.assign(Current_MS4_TSS_Perc= lambda Progress_Data: (Progress_Data.TSS/5704493.97)*100).round(2)"
   ]
  },
  {
   "cell_type": "code",
   "execution_count": null,
   "metadata": {},
   "outputs": [],
   "source": [
    "Progress_Data_1 = Progress_Data[['Practice','Current_MS4_TN_Perc', 'Current_MS4_TP_Perc', 'Current_MS4_TSS_Perc']]\n",
    "Progress_Data_1 = Progress_Data_1.rename(columns={\"Current_MS4_TN_Perc\": \"TN\", \"Current_MS4_TP_Perc\":\"TP\", \"Current_MS4_TSS_Perc\":\"TSS\"})\n",
    "Progress_Data_1 = pd.melt(Progress_Data_1, id_vars=['Practice'])\n",
    "Progress_Data_1['Scenario'] ='Current MS4'"
   ]
  },
  {
   "cell_type": "code",
   "execution_count": null,
   "metadata": {},
   "outputs": [],
   "source": [
    "Progress_Data_2 = Progress_Data\n",
    "Progress_Data_2 = Progress_Data_2.assign(TN_Perc= lambda Progress_Data: (Progress_Data.TN/111916.53)*100).round(2)\n",
    "Progress_Data_2 = Progress_Data_2.assign(TP_Perc= lambda Progress_Data: (Progress_Data.TP/13417.09)*100).round(2)\n",
    "Progress_Data_2 = Progress_Data_2.assign(TSS_Perc= lambda Progress_Data: (Progress_Data.TSS/11235564.70)*100).round(2)"
   ]
  },
  {
   "cell_type": "code",
   "execution_count": null,
   "metadata": {},
   "outputs": [],
   "source": [
    "Progress_Data_2 = Progress_Data_2[['Practice','TN_Perc', 'TP_Perc', 'TSS_Perc']]\n",
    "Progress_Data_2 = Progress_Data_2.rename(columns={\"TN_Perc\": \"TN\", \"TP_Perc\":\"TP\", \"TSS_Perc\":\"TSS\"})\n",
    "Progress_Data_2 = pd.melt(Progress_Data_2, id_vars=['Practice'])\n",
    "Progress_Data_2['Scenario'] ='All Drainage Areas'"
   ]
  },
  {
   "cell_type": "code",
   "execution_count": null,
   "metadata": {},
   "outputs": [],
   "source": [
    "Progress_Data_3 = Progress_Data\n",
    "Progress_Data_3 = Progress_Data_3.assign(TN_Perc= lambda Progress_Data: (Progress_Data.TN/208878.25)*100).round(2)\n",
    "Progress_Data_3 = Progress_Data_3.assign(TP_Perc= lambda Progress_Data: (Progress_Data.TP/20702.23)*100).round(2)\n",
    "Progress_Data_3 = Progress_Data_3.assign(TSS_Perc= lambda Progress_Data: (Progress_Data.TSS/16370068.97)*100).round(2)"
   ]
  },
  {
   "cell_type": "code",
   "execution_count": null,
   "metadata": {},
   "outputs": [],
   "source": [
    "Progress_Data_3 = Progress_Data_3[['Practice','TN_Perc', 'TP_Perc', 'TSS_Perc']]\n",
    "Progress_Data_3 = Progress_Data_3.rename(columns={\"TN_Perc\": \"TN\", \"TP_Perc\":\"TP\", \"TSS_Perc\":\"TSS\"})\n",
    "Progress_Data_3 = pd.melt(Progress_Data_3, id_vars=['Practice'])\n",
    "Progress_Data_3['Scenario'] ='Entire County'"
   ]
  },
  {
   "cell_type": "code",
   "execution_count": null,
   "metadata": {},
   "outputs": [],
   "source": [
    "Progress_Plot_Data = pd.concat([Progress_Data_1, Progress_Data_2, Progress_Data_3])\n",
    "Progress_Plot_Data = Progress_Plot_Data.rename(columns={\"variable\": \"Pollutants\", \"value\":\"Percent Towards Goal\"})"
   ]
  },
  {
   "cell_type": "code",
   "execution_count": null,
   "metadata": {},
   "outputs": [],
   "source": [
    "fig_h = px.bar(Progress_Plot_Data, x=\"Percent Towards Goal\", y=\"Pollutants\", color='Practice', facet_row = \"Scenario\", color_discrete_sequence=[\"blue\",\"orange\",\"silver\",\"yellow\",\"green\",\"black\",\"pink\",\"brown\",\"white\",\"light green\",\"light blue\",\"red\"], orientation='h',\n",
    "             hover_data=[\"Practice\", \"Percent Towards Goal\"],\n",
    "             height=800,\n",
    "             title='Current Progress').update_yaxes(categoryorder=\"category descending\")\n",
    "f_h = go.FigureWidget(fig_h)\n",
    "f_h"
   ]
  }
 ],
 "metadata": {
  "kernelspec": {
   "display_name": "Python 3",
   "language": "python",
   "name": "python3"
  },
  "language_info": {
   "codemirror_mode": {
    "name": "ipython",
    "version": 3
   },
   "file_extension": ".py",
   "mimetype": "text/x-python",
   "name": "python",
   "nbconvert_exporter": "python",
   "pygments_lexer": "ipython3",
   "version": "3.8.8"
  }
 },
 "nbformat": 4,
 "nbformat_minor": 4
}
